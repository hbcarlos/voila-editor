{
 "cells": [
  {
   "cell_type": "markdown",
   "metadata": {
    "extensions": {
     "jupyter_dashboards": {
      "version": 1,
      "views": {
       "grid_default": {
        "col": 2,
        "height": 3,
        "hidden": true,
        "row": 0,
        "width": 6
       },
       "report_default": {
        "hidden": false
       }
      }
     }
    }
   },
   "source": [
    "# Got Scotch?"
   ]
  },
  {
   "cell_type": "markdown",
   "metadata": {
    "extensions": {
     "jupyter_dashboards": {
      "version": 1,
      "views": {
       "grid_default": {
        "col": 0,
        "height": 4,
        "hidden": false,
        "row": 0,
        "width": 12
       },
       "report_default": {
        "hidden": false
       }
      }
     }
    }
   },
   "source": [
    "# So easy, *voilà*\n",
    "\n",
    "In this example notebook, we demonstrate how Voilà can render Jupyter notebooks with interactions requiring a roundtrip to the kernel., we're going to create a dashboard that recommends scotches based on their taste profiles. \n",
    "\n"
   ]
  },
  {
   "cell_type": "code",
   "execution_count": 1,
   "metadata": {
    "extensions": {
     "jupyter_dashboards": {
      "version": 1,
      "views": {
       "grid_default": {
        "col": 2,
        "height": 1,
        "hidden": true,
        "row": 0,
        "width": 2
       },
       "report_default": {
        "hidden": true
       }
      }
     }
    }
   },
   "outputs": [
    {
     "ename": "ModuleNotFoundError",
     "evalue": "No module named 'matplotlib'",
     "output_type": "error",
     "traceback": [
      "\u001b[0;31m---------------------------------------------------------------------------\u001b[0m",
      "\u001b[0;31mModuleNotFoundError\u001b[0m                       Traceback (most recent call last)",
      "\u001b[0;32m<ipython-input-1-7b899824b39e>\u001b[0m in \u001b[0;36m<module>\u001b[0;34m\u001b[0m\n\u001b[0;32m----> 1\u001b[0;31m \u001b[0mget_ipython\u001b[0m\u001b[0;34m(\u001b[0m\u001b[0;34m)\u001b[0m\u001b[0;34m.\u001b[0m\u001b[0mrun_line_magic\u001b[0m\u001b[0;34m(\u001b[0m\u001b[0;34m'matplotlib'\u001b[0m\u001b[0;34m,\u001b[0m \u001b[0;34m'widget'\u001b[0m\u001b[0;34m)\u001b[0m\u001b[0;34m\u001b[0m\u001b[0;34m\u001b[0m\u001b[0m\n\u001b[0m",
      "\u001b[0;32m/opt/miniconda3/envs/editor/lib/python3.8/site-packages/IPython/core/interactiveshell.py\u001b[0m in \u001b[0;36mrun_line_magic\u001b[0;34m(self, magic_name, line, _stack_depth)\u001b[0m\n\u001b[1;32m   2324\u001b[0m                 \u001b[0mkwargs\u001b[0m\u001b[0;34m[\u001b[0m\u001b[0;34m'local_ns'\u001b[0m\u001b[0;34m]\u001b[0m \u001b[0;34m=\u001b[0m \u001b[0mself\u001b[0m\u001b[0;34m.\u001b[0m\u001b[0mget_local_scope\u001b[0m\u001b[0;34m(\u001b[0m\u001b[0mstack_depth\u001b[0m\u001b[0;34m)\u001b[0m\u001b[0;34m\u001b[0m\u001b[0;34m\u001b[0m\u001b[0m\n\u001b[1;32m   2325\u001b[0m             \u001b[0;32mwith\u001b[0m \u001b[0mself\u001b[0m\u001b[0;34m.\u001b[0m\u001b[0mbuiltin_trap\u001b[0m\u001b[0;34m:\u001b[0m\u001b[0;34m\u001b[0m\u001b[0;34m\u001b[0m\u001b[0m\n\u001b[0;32m-> 2326\u001b[0;31m                 \u001b[0mresult\u001b[0m \u001b[0;34m=\u001b[0m \u001b[0mfn\u001b[0m\u001b[0;34m(\u001b[0m\u001b[0;34m*\u001b[0m\u001b[0margs\u001b[0m\u001b[0;34m,\u001b[0m \u001b[0;34m**\u001b[0m\u001b[0mkwargs\u001b[0m\u001b[0;34m)\u001b[0m\u001b[0;34m\u001b[0m\u001b[0;34m\u001b[0m\u001b[0m\n\u001b[0m\u001b[1;32m   2327\u001b[0m             \u001b[0;32mreturn\u001b[0m \u001b[0mresult\u001b[0m\u001b[0;34m\u001b[0m\u001b[0;34m\u001b[0m\u001b[0m\n\u001b[1;32m   2328\u001b[0m \u001b[0;34m\u001b[0m\u001b[0m\n",
      "\u001b[0;32m<decorator-gen-101>\u001b[0m in \u001b[0;36mmatplotlib\u001b[0;34m(self, line)\u001b[0m\n",
      "\u001b[0;32m/opt/miniconda3/envs/editor/lib/python3.8/site-packages/IPython/core/magic.py\u001b[0m in \u001b[0;36m<lambda>\u001b[0;34m(f, *a, **k)\u001b[0m\n\u001b[1;32m    185\u001b[0m     \u001b[0;31m# but it's overkill for just that one bit of state.\u001b[0m\u001b[0;34m\u001b[0m\u001b[0;34m\u001b[0m\u001b[0;34m\u001b[0m\u001b[0m\n\u001b[1;32m    186\u001b[0m     \u001b[0;32mdef\u001b[0m \u001b[0mmagic_deco\u001b[0m\u001b[0;34m(\u001b[0m\u001b[0marg\u001b[0m\u001b[0;34m)\u001b[0m\u001b[0;34m:\u001b[0m\u001b[0;34m\u001b[0m\u001b[0;34m\u001b[0m\u001b[0m\n\u001b[0;32m--> 187\u001b[0;31m         \u001b[0mcall\u001b[0m \u001b[0;34m=\u001b[0m \u001b[0;32mlambda\u001b[0m \u001b[0mf\u001b[0m\u001b[0;34m,\u001b[0m \u001b[0;34m*\u001b[0m\u001b[0ma\u001b[0m\u001b[0;34m,\u001b[0m \u001b[0;34m**\u001b[0m\u001b[0mk\u001b[0m\u001b[0;34m:\u001b[0m \u001b[0mf\u001b[0m\u001b[0;34m(\u001b[0m\u001b[0;34m*\u001b[0m\u001b[0ma\u001b[0m\u001b[0;34m,\u001b[0m \u001b[0;34m**\u001b[0m\u001b[0mk\u001b[0m\u001b[0;34m)\u001b[0m\u001b[0;34m\u001b[0m\u001b[0;34m\u001b[0m\u001b[0m\n\u001b[0m\u001b[1;32m    188\u001b[0m \u001b[0;34m\u001b[0m\u001b[0m\n\u001b[1;32m    189\u001b[0m         \u001b[0;32mif\u001b[0m \u001b[0mcallable\u001b[0m\u001b[0;34m(\u001b[0m\u001b[0marg\u001b[0m\u001b[0;34m)\u001b[0m\u001b[0;34m:\u001b[0m\u001b[0;34m\u001b[0m\u001b[0;34m\u001b[0m\u001b[0m\n",
      "\u001b[0;32m/opt/miniconda3/envs/editor/lib/python3.8/site-packages/IPython/core/magics/pylab.py\u001b[0m in \u001b[0;36mmatplotlib\u001b[0;34m(self, line)\u001b[0m\n\u001b[1;32m     97\u001b[0m             \u001b[0mprint\u001b[0m\u001b[0;34m(\u001b[0m\u001b[0;34m\"Available matplotlib backends: %s\"\u001b[0m \u001b[0;34m%\u001b[0m \u001b[0mbackends_list\u001b[0m\u001b[0;34m)\u001b[0m\u001b[0;34m\u001b[0m\u001b[0;34m\u001b[0m\u001b[0m\n\u001b[1;32m     98\u001b[0m         \u001b[0;32melse\u001b[0m\u001b[0;34m:\u001b[0m\u001b[0;34m\u001b[0m\u001b[0;34m\u001b[0m\u001b[0m\n\u001b[0;32m---> 99\u001b[0;31m             \u001b[0mgui\u001b[0m\u001b[0;34m,\u001b[0m \u001b[0mbackend\u001b[0m \u001b[0;34m=\u001b[0m \u001b[0mself\u001b[0m\u001b[0;34m.\u001b[0m\u001b[0mshell\u001b[0m\u001b[0;34m.\u001b[0m\u001b[0menable_matplotlib\u001b[0m\u001b[0;34m(\u001b[0m\u001b[0margs\u001b[0m\u001b[0;34m.\u001b[0m\u001b[0mgui\u001b[0m\u001b[0;34m.\u001b[0m\u001b[0mlower\u001b[0m\u001b[0;34m(\u001b[0m\u001b[0;34m)\u001b[0m \u001b[0;32mif\u001b[0m \u001b[0misinstance\u001b[0m\u001b[0;34m(\u001b[0m\u001b[0margs\u001b[0m\u001b[0;34m.\u001b[0m\u001b[0mgui\u001b[0m\u001b[0;34m,\u001b[0m \u001b[0mstr\u001b[0m\u001b[0;34m)\u001b[0m \u001b[0;32melse\u001b[0m \u001b[0margs\u001b[0m\u001b[0;34m.\u001b[0m\u001b[0mgui\u001b[0m\u001b[0;34m)\u001b[0m\u001b[0;34m\u001b[0m\u001b[0;34m\u001b[0m\u001b[0m\n\u001b[0m\u001b[1;32m    100\u001b[0m             \u001b[0mself\u001b[0m\u001b[0;34m.\u001b[0m\u001b[0m_show_matplotlib_backend\u001b[0m\u001b[0;34m(\u001b[0m\u001b[0margs\u001b[0m\u001b[0;34m.\u001b[0m\u001b[0mgui\u001b[0m\u001b[0;34m,\u001b[0m \u001b[0mbackend\u001b[0m\u001b[0;34m)\u001b[0m\u001b[0;34m\u001b[0m\u001b[0;34m\u001b[0m\u001b[0m\n\u001b[1;32m    101\u001b[0m \u001b[0;34m\u001b[0m\u001b[0m\n",
      "\u001b[0;32m/opt/miniconda3/envs/editor/lib/python3.8/site-packages/IPython/core/interactiveshell.py\u001b[0m in \u001b[0;36menable_matplotlib\u001b[0;34m(self, gui)\u001b[0m\n\u001b[1;32m   3491\u001b[0m         \"\"\"\n\u001b[1;32m   3492\u001b[0m         \u001b[0;32mfrom\u001b[0m \u001b[0mIPython\u001b[0m\u001b[0;34m.\u001b[0m\u001b[0mcore\u001b[0m \u001b[0;32mimport\u001b[0m \u001b[0mpylabtools\u001b[0m \u001b[0;32mas\u001b[0m \u001b[0mpt\u001b[0m\u001b[0;34m\u001b[0m\u001b[0;34m\u001b[0m\u001b[0m\n\u001b[0;32m-> 3493\u001b[0;31m         \u001b[0mgui\u001b[0m\u001b[0;34m,\u001b[0m \u001b[0mbackend\u001b[0m \u001b[0;34m=\u001b[0m \u001b[0mpt\u001b[0m\u001b[0;34m.\u001b[0m\u001b[0mfind_gui_and_backend\u001b[0m\u001b[0;34m(\u001b[0m\u001b[0mgui\u001b[0m\u001b[0;34m,\u001b[0m \u001b[0mself\u001b[0m\u001b[0;34m.\u001b[0m\u001b[0mpylab_gui_select\u001b[0m\u001b[0;34m)\u001b[0m\u001b[0;34m\u001b[0m\u001b[0;34m\u001b[0m\u001b[0m\n\u001b[0m\u001b[1;32m   3494\u001b[0m \u001b[0;34m\u001b[0m\u001b[0m\n\u001b[1;32m   3495\u001b[0m         \u001b[0;32mif\u001b[0m \u001b[0mgui\u001b[0m \u001b[0;34m!=\u001b[0m \u001b[0;34m'inline'\u001b[0m\u001b[0;34m:\u001b[0m\u001b[0;34m\u001b[0m\u001b[0;34m\u001b[0m\u001b[0m\n",
      "\u001b[0;32m/opt/miniconda3/envs/editor/lib/python3.8/site-packages/IPython/core/pylabtools.py\u001b[0m in \u001b[0;36mfind_gui_and_backend\u001b[0;34m(gui, gui_select)\u001b[0m\n\u001b[1;32m    278\u001b[0m     \"\"\"\n\u001b[1;32m    279\u001b[0m \u001b[0;34m\u001b[0m\u001b[0m\n\u001b[0;32m--> 280\u001b[0;31m     \u001b[0;32mimport\u001b[0m \u001b[0mmatplotlib\u001b[0m\u001b[0;34m\u001b[0m\u001b[0;34m\u001b[0m\u001b[0m\n\u001b[0m\u001b[1;32m    281\u001b[0m \u001b[0;34m\u001b[0m\u001b[0m\n\u001b[1;32m    282\u001b[0m     \u001b[0;32mif\u001b[0m \u001b[0mgui\u001b[0m \u001b[0;32mand\u001b[0m \u001b[0mgui\u001b[0m \u001b[0;34m!=\u001b[0m \u001b[0;34m'auto'\u001b[0m\u001b[0;34m:\u001b[0m\u001b[0;34m\u001b[0m\u001b[0;34m\u001b[0m\u001b[0m\n",
      "\u001b[0;31mModuleNotFoundError\u001b[0m: No module named 'matplotlib'"
     ]
    }
   ],
   "source": [
    "%matplotlib widget"
   ]
  },
  {
   "cell_type": "code",
   "execution_count": 2,
   "metadata": {
    "extensions": {
     "jupyter_dashboards": {
      "version": 1,
      "views": {
       "grid_default": {
        "col": 3,
        "height": 1,
        "hidden": true,
        "row": 4,
        "width": 5
       },
       "report_default": {
        "hidden": true
       }
      }
     }
    }
   },
   "outputs": [],
   "source": [
    "import pandas as pd\n",
    "import seaborn as sns\n",
    "import numpy as np\n",
    "import matplotlib.pyplot as plt\n",
    "import os"
   ]
  },
  {
   "cell_type": "code",
   "execution_count": 3,
   "metadata": {
    "extensions": {
     "jupyter_dashboards": {
      "version": 1,
      "views": {
       "grid_default": {
        "col": 5,
        "height": 2,
        "hidden": true,
        "row": 0,
        "width": 2
       },
       "report_default": {
        "hidden": true
       }
      }
     }
    }
   },
   "outputs": [],
   "source": [
    "import ipywidgets as widgets\n",
    "from traitlets import Unicode, List, Instance, link, HasTraits\n",
    "from IPython.display import display, clear_output, HTML, Javascript"
   ]
  },
  {
   "cell_type": "code",
   "execution_count": 4,
   "metadata": {
    "extensions": {
     "jupyter_dashboards": {
      "version": 1,
      "views": {
       "grid_default": {
        "col": 8,
        "height": 1,
        "hidden": true,
        "row": 0,
        "width": 4
       },
       "report_default": {}
      }
     }
    }
   },
   "outputs": [],
   "source": [
    "display(widgets.Button())"
   ]
  },
  {
   "cell_type": "markdown",
   "metadata": {
    "extensions": {
     "jupyter_dashboards": {
      "version": 1,
      "views": {
       "grid_default": {
        "col": 4,
        "height": 1,
        "hidden": true,
        "row": 2,
        "width": 3
       },
       "report_default": {
        "hidden": false
       }
      }
     }
    }
   },
   "source": [
    "## Load Data <span style=\"float: right; font-size: 0.5em\"><a href=\"#Got-Scotch?\">Top</a></span>"
   ]
  },
  {
   "cell_type": "code",
   "execution_count": 5,
   "metadata": {
    "collapsed": true,
    "extensions": {
     "jupyter_dashboards": {
      "version": 1,
      "views": {
       "grid_default": {
        "col": 4,
        "height": 1,
        "hidden": true,
        "row": 0,
        "width": 3
       },
       "report_default": {}
      }
     }
    },
    "jupyter": {
     "outputs_hidden": true
    }
   },
   "outputs": [],
   "source": [
    "\n",
    "\n",
    "features = [[2, 2, 2, 0, 0, 2, 1, 2, 2, 2, 2, 2],\n",
    " [3, 3, 1, 0, 0, 4, 3, 2, 2, 3, 3, 2],\n",
    " [1, 3, 2, 0, 0, 2, 0, 0, 2, 2, 3, 1],\n",
    " [4, 1, 4, 4, 0, 0, 2, 0, 1, 2, 1, 0],\n",
    " [2, 2, 2, 0, 0, 1, 1, 1, 2, 3, 1, 3],\n",
    " [2, 3, 1, 1, 0, 1, 1, 1, 0, 1, 1, 1],\n",
    " [0, 2, 0, 0, 0, 1, 1, 0, 2, 2, 3, 1],\n",
    " [2, 3, 1, 0, 0, 2, 1, 2, 2, 2, 2, 2],\n",
    " [2, 2, 1, 0, 0, 1, 0, 0, 2, 2, 2, 1],\n",
    " [2, 3, 2, 1, 0, 0, 2, 0, 2, 1, 2, 3],\n",
    " [4, 3, 2, 0, 0, 2, 1, 3, 3, 0, 1, 2],\n",
    " [3, 2, 1, 0, 0, 3, 2, 1, 0, 2, 2, 2],\n",
    " [4, 2, 2, 0, 0, 2, 2, 0, 2, 2, 2, 2],\n",
    " [2, 2, 1, 0, 0, 2, 2, 0, 0, 2, 3, 1],\n",
    " [3, 2, 2, 0, 0, 3, 1, 1, 2, 3, 2, 2],\n",
    " [2, 2, 2, 0, 0, 2, 2, 1, 2, 2, 2, 2],\n",
    " [1, 2, 1, 0, 0, 0, 1, 1, 0, 2, 2, 1],\n",
    " [2, 2, 2, 0, 0, 1, 2, 2, 2, 2, 2, 2],\n",
    " [2, 2, 3, 1, 0, 2, 2, 1, 1, 1, 1, 3],\n",
    " [1, 1, 2, 2, 0, 2, 2, 1, 2, 2, 2, 3],\n",
    " [1, 2, 1, 1, 0, 1, 1, 1, 1, 2, 2, 1],\n",
    " [3, 1, 4, 2, 1, 0, 2, 0, 2, 1, 1, 0],\n",
    " [1, 3, 1, 0, 0, 1, 1, 0, 2, 2, 2, 1],\n",
    " [3, 2, 3, 3, 1, 0, 2, 0, 1, 1, 2, 0],\n",
    " [2, 2, 2, 0, 1, 2, 2, 1, 2, 2, 1, 2],\n",
    " [2, 3, 2, 1, 0, 0, 1, 0, 2, 2, 2, 1],\n",
    " [4, 2, 2, 0, 0, 1, 2, 2, 2, 2, 2, 2],\n",
    " [3, 2, 2, 1, 0, 1, 2, 2, 1, 2, 3, 2],\n",
    " [2, 2, 2, 0, 0, 2, 1, 0, 1, 2, 2, 1],\n",
    " [2, 2, 1, 0, 0, 2, 1, 1, 1, 3, 2, 2],\n",
    " [2, 3, 1, 1, 0, 0, 0, 0, 1, 2, 2, 1],\n",
    " [2, 3, 1, 0, 0, 2, 1, 1, 4, 2, 2, 2],\n",
    " [2, 3, 1, 1, 1, 1, 1, 2, 0, 2, 0, 3],\n",
    " [2, 3, 1, 0, 0, 2, 1, 1, 1, 1, 2, 1],\n",
    " [2, 1, 3, 0, 0, 0, 3, 1, 0, 2, 2, 3],\n",
    " [1, 2, 0, 0, 0, 1, 0, 1, 2, 1, 2, 1],\n",
    " [2, 3, 1, 0, 0, 1, 2, 1, 2, 1, 2, 2],\n",
    " [1, 2, 1, 0, 0, 1, 2, 1, 2, 2, 2, 1],\n",
    " [3, 2, 1, 0, 0, 1, 2, 1, 1, 2, 2, 2],\n",
    " [2, 2, 2, 2, 0, 1, 0, 1, 2, 2, 1, 3],\n",
    " [1, 3, 1, 0, 0, 0, 1, 1, 1, 2, 0, 1],\n",
    " [1, 3, 1, 0, 0, 1, 1, 0, 1, 2, 2, 1],\n",
    " [4, 2, 2, 0, 0, 2, 1, 4, 2, 2, 2, 2],\n",
    " [3, 2, 1, 0, 0, 2, 1, 2, 1, 2, 3, 2],\n",
    " [2, 4, 1, 0, 0, 1, 2, 3, 2, 3, 2, 2],\n",
    " [1, 3, 1, 0, 0, 0, 0, 0, 0, 2, 2, 1],\n",
    " [1, 2, 0, 0, 0, 1, 1, 1, 2, 2, 3, 1],\n",
    " [1, 2, 1, 0, 0, 1, 2, 0, 0, 2, 2, 1],\n",
    " [2, 3, 1, 0, 0, 2, 2, 2, 1, 2, 2, 2],\n",
    " [1, 2, 1, 0, 0, 1, 2, 0, 1, 2, 2, 1],\n",
    " [2, 2, 1, 1, 0, 1, 2, 0, 2, 1, 2, 1],\n",
    " [2, 3, 1, 0, 0, 1, 1, 2, 1, 2, 2, 2],\n",
    " [2, 3, 1, 0, 0, 2, 2, 2, 2, 2, 1, 2],\n",
    " [2, 2, 3, 1, 0, 2, 1, 1, 1, 2, 1, 3],\n",
    " [1, 3, 1, 1, 0, 2, 2, 0, 1, 2, 1, 1],\n",
    " [2, 1, 2, 2, 0, 1, 1, 0, 2, 1, 1, 3],\n",
    " [2, 3, 1, 0, 0, 2, 2, 1, 2, 1, 2, 2],\n",
    " [4, 1, 4, 4, 1, 0, 1, 2, 1, 1, 1, 0],\n",
    " [4, 2, 4, 4, 1, 0, 0, 1, 1, 1, 0, 0],\n",
    " [2, 3, 1, 0, 0, 1, 1, 2, 0, 1, 3, 1],\n",
    " [1, 1, 1, 1, 0, 1, 1, 0, 1, 2, 1, 1],\n",
    " [3, 2, 1, 0, 0, 1, 1, 1, 3, 3, 2, 2],\n",
    " [4, 3, 1, 0, 0, 2, 1, 4, 2, 2, 3, 2],\n",
    " [2, 1, 1, 0, 0, 1, 1, 1, 2, 1, 2, 1],\n",
    " [2, 4, 1, 0, 0, 1, 0, 0, 2, 1, 1, 1],\n",
    " [3, 2, 2, 0, 0, 2, 3, 3, 2, 1, 2, 2],\n",
    " [2, 2, 2, 2, 0, 0, 2, 0, 2, 2, 2, 3],\n",
    " [1, 2, 2, 0, 1, 2, 2, 1, 2, 3, 1, 3],\n",
    " [2, 1, 2, 2, 1, 0, 1, 1, 2, 2, 2, 3],\n",
    " [2, 3, 2, 1, 1, 1, 2, 1, 0, 2, 3, 1],\n",
    " [3, 2, 2, 0, 0, 2, 2, 2, 2, 2, 3, 2],\n",
    " [2, 2, 1, 1, 0, 2, 1, 1, 2, 2, 2, 2],\n",
    " [2, 4, 1, 0, 0, 2, 1, 0, 0, 2, 1, 1],\n",
    " [2, 2, 1, 0, 0, 1, 0, 1, 2, 2, 2, 1],\n",
    " [2, 2, 2, 2, 0, 2, 2, 1, 2, 1, 0, 3],\n",
    " [2, 2, 1, 0, 0, 2, 2, 2, 3, 3, 3, 2],\n",
    " [2, 3, 1, 0, 0, 0, 2, 0, 2, 1, 3, 1],\n",
    " [4, 2, 3, 3, 0, 1, 3, 0, 1, 2, 2, 0],\n",
    " [1, 2, 1, 0, 0, 2, 0, 1, 1, 2, 2, 1],\n",
    " [1, 3, 2, 0, 0, 0, 2, 0, 2, 1, 2, 1],\n",
    " [2, 2, 2, 1, 0, 0, 2, 0, 0, 0, 2, 3],\n",
    " [1, 1, 1, 0, 0, 1, 0, 0, 1, 2, 2, 1],\n",
    " [2, 3, 2, 0, 0, 2, 2, 1, 1, 2, 0, 3],\n",
    " [0, 3, 1, 0, 0, 2, 2, 1, 1, 2, 1, 1],\n",
    " [2, 2, 1, 0, 0, 1, 0, 1, 2, 1, 0, 3],\n",
    " [2, 3, 0, 0, 1, 0, 2, 1, 1, 2, 2, 1]]\n",
    "\n",
    "feature_names = ['Body', 'Sweetness', 'Smoky', \n",
    "                 'Medicinal', 'Tobacco', 'Honey',\n",
    "                 'Spicy', 'Winey', 'Nutty',\n",
    "                 'Malty', 'Fruity', 'cluster']\n",
    "\n",
    "brand_names = ['Aberfeldy',\n",
    " 'Aberlour',\n",
    " 'AnCnoc',\n",
    " 'Ardbeg',\n",
    " 'Ardmore',\n",
    " 'ArranIsleOf',\n",
    " 'Auchentoshan',\n",
    " 'Auchroisk',\n",
    " 'Aultmore',\n",
    " 'Balblair',\n",
    " 'Balmenach',\n",
    " 'Belvenie',\n",
    " 'BenNevis',\n",
    " 'Benriach',\n",
    " 'Benrinnes',\n",
    " 'Benromach',\n",
    " 'Bladnoch',\n",
    " 'BlairAthol',\n",
    " 'Bowmore',\n",
    " 'Bruichladdich',\n",
    " 'Bunnahabhain',\n",
    " 'Caol Ila',\n",
    " 'Cardhu',\n",
    " 'Clynelish',\n",
    " 'Craigallechie',\n",
    " 'Craigganmore',\n",
    " 'Dailuaine',\n",
    " 'Dalmore',\n",
    " 'Dalwhinnie',\n",
    " 'Deanston',\n",
    " 'Dufftown',\n",
    " 'Edradour',\n",
    " 'GlenDeveronMacduff',\n",
    " 'GlenElgin',\n",
    " 'GlenGarioch',\n",
    " 'GlenGrant',\n",
    " 'GlenKeith',\n",
    " 'GlenMoray',\n",
    " 'GlenOrd',\n",
    " 'GlenScotia',\n",
    " 'GlenSpey',\n",
    " 'Glenallachie',\n",
    " 'Glendronach',\n",
    " 'Glendullan',\n",
    " 'Glenfarclas',\n",
    " 'Glenfiddich',\n",
    " 'Glengoyne',\n",
    " 'Glenkinchie',\n",
    " 'Glenlivet',\n",
    " 'Glenlossie',\n",
    " 'Glenmorangie',\n",
    " 'Glenrothes',\n",
    " 'Glenturret',\n",
    " 'Highland Park',\n",
    " 'Inchgower',\n",
    " 'Isle of Jura',\n",
    " 'Knochando',\n",
    " 'Lagavulin',\n",
    " 'Laphroig',\n",
    " 'Linkwood',\n",
    " 'Loch Lomond',\n",
    " 'Longmorn',\n",
    " 'Macallan',\n",
    " 'Mannochmore',\n",
    " 'Miltonduff',\n",
    " 'Mortlach',\n",
    " 'Oban',\n",
    " 'OldFettercairn',\n",
    " 'OldPulteney',\n",
    " 'RoyalBrackla',\n",
    " 'RoyalLochnagar',\n",
    " 'Scapa',\n",
    " 'Speyburn',\n",
    " 'Speyside',\n",
    " 'Springbank',\n",
    " 'Strathisla',\n",
    " 'Strathmill',\n",
    " 'Talisker',\n",
    " 'Tamdhu',\n",
    " 'Tamnavulin',\n",
    " 'Teaninich',\n",
    " 'Tobermory',\n",
    " 'Tomatin',\n",
    " 'Tomintoul',\n",
    " 'Tormore',\n",
    " 'Tullibardine']"
   ]
  },
  {
   "cell_type": "code",
   "execution_count": 6,
   "metadata": {
    "collapsed": true,
    "extensions": {
     "jupyter_dashboards": {
      "version": 1,
      "views": {
       "grid_default": {
        "col": 0,
        "height": 3,
        "hidden": true,
        "row": 5,
        "width": 2
       },
       "report_default": {}
      }
     }
    },
    "jupyter": {
     "outputs_hidden": true
    }
   },
   "outputs": [],
   "source": [
    "features_df = pd.DataFrame(features, columns=feature_names, index=brand_names)\n",
    "features_df = features_df.drop('cluster', axis=1)"
   ]
  },
  {
   "cell_type": "code",
   "execution_count": 7,
   "metadata": {
    "collapsed": true,
    "extensions": {
     "jupyter_dashboards": {
      "version": 1,
      "views": {
       "grid_default": {
        "col": 0,
        "height": 1,
        "hidden": true,
        "row": 4,
        "width": 2
       },
       "report_default": {}
      }
     }
    },
    "jupyter": {
     "outputs_hidden": true
    }
   },
   "outputs": [],
   "source": [
    "norm = (features_df ** 2).sum(axis=1).apply('sqrt')\n",
    "normed_df = features_df.divide(norm, axis=0)\n",
    "sim_df = normed_df.dot(normed_df.T)"
   ]
  },
  {
   "cell_type": "code",
   "execution_count": 8,
   "metadata": {
    "collapsed": true,
    "extensions": {
     "jupyter_dashboards": {
      "version": 1,
      "views": {
       "grid_default": {
        "col": 1,
        "height": 1,
        "hidden": true,
        "row": 4,
        "width": 2
       },
       "report_default": {
        "hidden": false
       }
      }
     }
    },
    "jupyter": {
     "outputs_hidden": true
    }
   },
   "outputs": [],
   "source": [
    "def radar(df, ax=None):\n",
    "    # calculate evenly-spaced axis angles\n",
    "    num_vars = len(df.columns)\n",
    "    theta = 2*np.pi * np.linspace(0, 1-1./num_vars, num_vars)\n",
    "    # rotate theta such that the first axis is at the top\n",
    "    theta += np.pi/2\n",
    "    if not ax:\n",
    "        fig = plt.figure(figsize=(4, 4))\n",
    "\n",
    "        ax = fig.add_subplot(1,1,1, projection='polar')\n",
    "    else:\n",
    "        ax.clear()\n",
    "    for d, color in zip(df.itertuples(), sns.color_palette()):\n",
    "        ax.plot(theta, d[1:], color=color, alpha=0.7)\n",
    "        ax.fill(theta, d[1:], facecolor=color, alpha=0.5)\n",
    "    ax.set_xticklabels(df.columns)\n",
    "\n",
    "    legend = ax.legend(df.index, loc=(0.9, .95))\n",
    "    return ax"
   ]
  },
  {
   "cell_type": "code",
   "execution_count": null,
   "metadata": {
    "collapsed": true,
    "extensions": {
     "jupyter_dashboards": {
      "version": 1,
      "views": {
       "grid_default": {
        "hidden": true
       },
       "report_default": {}
      }
     }
    },
    "jupyter": {
     "outputs_hidden": true
    }
   },
   "outputs": [],
   "source": []
  },
  {
   "cell_type": "code",
   "execution_count": 9,
   "metadata": {
    "extensions": {
     "jupyter_dashboards": {
      "version": 1,
      "views": {
       "grid_default": {
        "col": 0,
        "height": 5,
        "hidden": true,
        "row": 11,
        "width": 7
       },
       "report_default": {
        "hidden": false
       }
      }
     }
    }
   },
   "outputs": [],
   "source": [
    "class RadarWidget(HasTraits):\n",
    "\n",
    "    factors_keys = List(['Aberfeldy'])\n",
    "    \n",
    "    def __init__(self, df, **kwargs):\n",
    "        self.df = df\n",
    "        super(RadarWidget, self).__init__(**kwargs)\n",
    "        self.ax = None\n",
    "        self.factors_keys_changed()\n",
    "         \n",
    "    \n",
    "    def factors_keys_changed(self):\n",
    "        new_value = self.factors_keys\n",
    "        if self.ax:\n",
    "            self.ax.clear()\n",
    "        self.ax = radar(self.df.loc[new_value], self.ax)"
   ]
  },
  {
   "cell_type": "markdown",
   "metadata": {
    "extensions": {
     "jupyter_dashboards": {
      "version": 1,
      "views": {
       "grid_default": {
        "col": 0,
        "height": 1,
        "hidden": true,
        "row": 3,
        "width": 12
       },
       "report_default": {
        "hidden": false
       }
      }
     }
    }
   },
   "source": [
    "We now define a *get_similar( )* function to return the data of the top n similar scotches to a given scotch."
   ]
  },
  {
   "cell_type": "code",
   "execution_count": 10,
   "metadata": {
    "extensions": {
     "jupyter_dashboards": {
      "version": 1,
      "views": {
       "grid_default": {
        "col": 0,
        "height": 2,
        "hidden": true,
        "row": 2,
        "width": 7
       },
       "report_default": {
        "hidden": false
       }
      }
     }
    }
   },
   "outputs": [],
   "source": [
    "def get_similar(name, n, top=True):\n",
    "    a = sim_df[name].sort_values(ascending=False)\n",
    "    a.name = 'Similarity'\n",
    "    df = pd.DataFrame(a) #.join(features_df).iloc[start:end]\n",
    "    return df.head(n) if top else df.tail(n)"
   ]
  },
  {
   "cell_type": "markdown",
   "metadata": {
    "extensions": {
     "jupyter_dashboards": {
      "version": 1,
      "views": {
       "grid_default": {
        "col": 3,
        "height": 2,
        "hidden": false,
        "row": 6,
        "width": 5
       },
       "report_default": {
        "hidden": false
       }
      }
     }
    }
   },
   "source": [
    "We also need a function *on_pick_scotch* that will display a table of the top 5 similar scotches that Radar View watches, based on a given selected Scotch."
   ]
  },
  {
   "cell_type": "code",
   "execution_count": 11,
   "metadata": {},
   "outputs": [],
   "source": []
  },
  {
   "cell_type": "code",
   "execution_count": 21,
   "metadata": {},
   "outputs": [
    {
     "data": {
      "application/vnd.jupyter.widget-view+json": {
       "model_id": "7bfb7f2b10b7499d838bfc3419fc1167",
       "version_major": 2,
       "version_minor": 0
      },
      "text/plain": [
       "HTML(value='Aberfeldy')"
      ]
     },
     "metadata": {},
     "output_type": "display_data"
    }
   ],
   "source": []
  },
  {
   "cell_type": "code",
   "execution_count": 22,
   "metadata": {},
   "outputs": [
    {
     "data": {
      "application/vnd.jupyter.widget-view+json": {
       "model_id": "bc8238c2b5264723a61dc69a2ee1883d",
       "version_major": 2,
       "version_minor": 0
      },
      "text/plain": [
       "HTML(value='Hello <b>World</b>', description='Some HTML')"
      ]
     },
     "metadata": {},
     "output_type": "display_data"
    }
   ],
   "source": []
  },
  {
   "cell_type": "code",
   "execution_count": 18,
   "metadata": {},
   "outputs": [
    {
     "data": {
      "application/vnd.jupyter.widget-view+json": {
       "model_id": "94d0fc2404564a969e10a5aef056dfb6",
       "version_major": 2,
       "version_minor": 0
      },
      "text/plain": [
       "Canvas(toolbar=Toolbar(toolitems=[('Home', 'Reset original view', 'home', 'home'), ('Back', 'Back to previous …"
      ]
     },
     "metadata": {},
     "output_type": "display_data"
    }
   ],
   "source": []
  },
  {
   "cell_type": "code",
   "execution_count": 15,
   "metadata": {},
   "outputs": [
    {
     "data": {
      "application/vnd.jupyter.widget-view+json": {
       "model_id": "e1282b5372354b5288cb075dbd04595e",
       "version_major": 2,
       "version_minor": 0
      },
      "text/plain": [
       "interactive(children=(Dropdown(description='Scotch', options=('Aberfeldy', 'Aberlour', 'AnCnoc', 'Ardbeg', 'Ar…"
      ]
     },
     "metadata": {},
     "output_type": "display_data"
    }
   ],
   "source": []
  },
  {
   "cell_type": "code",
   "execution_count": 16,
   "metadata": {
    "extensions": {
     "jupyter_dashboards": {
      "version": 1,
      "views": {
       "grid_default": {
        "col": 7,
        "height": 1,
        "hidden": true,
        "row": 6,
        "width": 3
       },
       "report_default": {}
      }
     }
    }
   },
   "outputs": [],
   "source": [
    "radar_w.factors_keys"
   ]
  },
  {
   "cell_type": "markdown",
   "metadata": {
    "extensions": {
     "jupyter_dashboards": {
      "version": 1,
      "views": {
       "grid_default": {
        "col": 0,
        "height": 2,
        "hidden": false,
        "row": 9,
        "width": 12
       },
       "report_default": {
        "hidden": false
       }
      }
     }
    }
   },
   "source": [
    "Powered by data from https://www.mathstat.strath.ac.uk/outreach/nessie/nessie_whisky.html and inspired by analysis from http://blog.revolutionanalytics.com/2013/12/k-means-clustering-86-single-malt-scotch-whiskies.html. This dashboard originated as a Jupyter Notebook."
   ]
  }
 ],
 "metadata": {
  "anaconda-cloud": {},
  "celltoolbar": "Edit Metadata",
  "extensions": {
   "jupyter_dashboards": {
    "activeView": "grid_default",
    "version": 1,
    "views": {
     "grid_default": {
      "cellMargin": 10,
      "defaultCellHeight": 50,
      "maxColumns": 12,
      "name": "grid",
      "type": "grid"
     },
     "report_default": {
      "name": "report",
      "type": "report"
     }
    }
   }
  },
  "kernelspec": {
   "display_name": "Python 3",
   "language": "python",
   "name": "python3"
  },
  "language_info": {
   "codemirror_mode": {
    "name": "ipython",
    "version": 3
   },
   "file_extension": ".py",
   "mimetype": "text/x-python",
   "name": "python",
   "nbconvert_exporter": "python",
   "pygments_lexer": "ipython3",
   "version": "3.8.5"
  }
 },
 "nbformat": 4,
 "nbformat_minor": 4
}
